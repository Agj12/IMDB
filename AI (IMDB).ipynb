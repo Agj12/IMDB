{
  "cells": [
    {
      "cell_type": "markdown",
      "metadata": {
        "id": "FDjOQdGadXjN"
      },
      "source": [
        "# **Artifical Intelligance** \n",
        "\n",
        "---\n",
        "\n",
        "\n",
        "### Explorating IMDB \n",
        "\n",
        "\n",
        "\n",
        "\n"
      ]
    },
    {
      "cell_type": "markdown",
      "metadata": {
        "id": "lCeJiBdE7W0j"
      },
      "source": [
        "The purpose for this exploration is to implement deep learning into figuring out if a film review is positive or negative efficiently.\n",
        "\n",
        "I will do this by first assembling a dataset (IMDB) which includes 50,000 film reviews for binary sentiment classification, this will mean that they're categorised by only 2 categories to ensure that the movie is either positive or negative. The measure of success is classification accuracy this is because we use an equal number of samples to each class, this works for IMDB because there are 25,000 training reviews and 25,000 testing reviews. The training samples will be split into two sections, the first sample of 15,000 is extracted and used for the training set and the 10,000 samples were used to create a validation set, the model was training using the training data and the validated using the validation data. Binary_crossentropy with the accuracy metric are the functions used to calculate the loss and will provide values of loss and accuracy, this is then used as a feedback signal so that it can adjust the weights so that the loss score decreases, and the accuracy increase if implement correctly.\n",
        "\n",
        "\n"
      ]
    },
    {
      "cell_type": "markdown",
      "metadata": {
        "id": "N8TNRfhAA0lH"
      },
      "source": [
        "The dataset that we are using now has to be prepared, we first do this by importing the useful dataset from tensorlow.keras.dataset which has the dataset in a pre-processed state which has every word assigned to an integer. Instead of using the whole dictionary of words used in the dataset which was above 80,000 words I reduced the size of the dataset to 10,000 of the most frequent words used to make a more manageable size to work with. The dataset is split into two and will include the training data and the test data which include the reviews and the labels which includes 1s and 0s to show which review is positive and which review is negative. The data was formatted in a way that would allow for the machine learning model to work as the lists were transformed into tensors which allowed the reviews to be vectorised which would fit in the 10,000 numbers. \n",
        "\n",
        "\n"
      ]
    },
    {
      "cell_type": "markdown",
      "metadata": {
        "id": "mnegdLhIJl8b"
      },
      "source": [
        "## **Creating an improved baseline model**\n",
        "\n",
        "---\n",
        "\n",
        "The input data and target data are ready so then now we can train modules.\n",
        "\n",
        "To start, create a module that uses statistical power that will beat the suggested baseline of 50% accuracy. The model is designed using a rmsprop optimiser with a default learning rate and last layer being the sigmoid, because of the binary classification it will include the loss function. The initial model has two layers, it has a relu activation layer as well as 5 hidden units and a sigmoid activation layer of 1. Giving the module 20 epochs this allows for the module to develop. Includes a batch size of 512 and the validation data results on top of the training data results. "
      ]
    },
    {
      "cell_type": "code",
      "execution_count": null,
      "metadata": {
        "colab": {
          "base_uri": "https://localhost:8080/"
        },
        "id": "kvf-t3avwOA7",
        "outputId": "fca971cf-bda1-4fb9-d1f2-92111e362dad"
      },
      "outputs": [
        {
          "name": "stdout",
          "output_type": "stream",
          "text": [
            "Downloading data from https://storage.googleapis.com/tensorflow/tf-keras-datasets/imdb.npz\n",
            "17464789/17464789 [==============================] - 0s 0us/step\n"
          ]
        }
      ],
      "source": [
        "from tensorflow.keras.datasets import imdb\n",
        "\n",
        "((train_data, train_labels), (test_data, test_labels)) = imdb.load_data(num_words = 10000)\n",
        "\n",
        "import numpy as np\n",
        "\n",
        "def vectorize_sequences(sequences, dimension = 10000):\n",
        "    results = np.zeros( (len(sequences), dimension) )\n",
        "    for i, sequence in enumerate(sequences):\n",
        "        results[i, sequence] = 1.\n",
        "    return results\n",
        "\n",
        "x_train = vectorize_sequences(train_data)\n",
        "x_test = vectorize_sequences(test_data)\n",
        "\n",
        "y_train = np.asarray(train_labels).astype('float32')\n",
        "y_test = np.asarray(test_labels).astype('float32')\n",
        "\n",
        "x_val = x_train[:10000]\n",
        "partial_x_train = x_train[10000:]\n",
        "y_val = y_train[:10000]\n",
        "partial_y_train = y_train[10000:] "
      ]
    },
    {
      "cell_type": "markdown",
      "metadata": {
        "id": "IVu89W3Slrop"
      },
      "source": [
        "## Model 1: 5 hidden units\n",
        "\n",
        "---\n",
        "\n"
      ]
    },
    {
      "cell_type": "code",
      "execution_count": null,
      "metadata": {
        "colab": {
          "base_uri": "https://localhost:8080/"
        },
        "id": "3I2WBHEI0W5c",
        "outputId": "efed8657-b880-48a0-df79-35971daace9c"
      },
      "outputs": [
        {
          "name": "stdout",
          "output_type": "stream",
          "text": [
            "Model: \"sequential\"\n",
            "_________________________________________________________________\n",
            " Layer (type)                Output Shape              Param #   \n",
            "=================================================================\n",
            " dense (Dense)               (None, 5)                 50005     \n",
            "                                                                 \n",
            " dense_1 (Dense)             (None, 1)                 6         \n",
            "                                                                 \n",
            "=================================================================\n",
            "Total params: 50,011\n",
            "Trainable params: 50,011\n",
            "Non-trainable params: 0\n",
            "_________________________________________________________________\n",
            "Epoch 1/20\n",
            "30/30 [==============================] - 2s 46ms/step - loss: 0.5196 - accuracy: 0.7924 - val_loss: 0.4275 - val_accuracy: 0.8515\n",
            "Epoch 2/20\n",
            "30/30 [==============================] - 1s 30ms/step - loss: 0.3579 - accuracy: 0.8916 - val_loss: 0.3512 - val_accuracy: 0.8772\n",
            "Epoch 3/20\n",
            "30/30 [==============================] - 1s 29ms/step - loss: 0.2874 - accuracy: 0.9135 - val_loss: 0.3194 - val_accuracy: 0.8816\n",
            "Epoch 4/20\n",
            "30/30 [==============================] - 1s 29ms/step - loss: 0.2417 - accuracy: 0.9283 - val_loss: 0.2949 - val_accuracy: 0.8899\n",
            "Epoch 5/20\n",
            "30/30 [==============================] - 1s 29ms/step - loss: 0.2101 - accuracy: 0.9369 - val_loss: 0.2817 - val_accuracy: 0.8916\n",
            "Epoch 6/20\n",
            "30/30 [==============================] - 1s 29ms/step - loss: 0.1860 - accuracy: 0.9451 - val_loss: 0.2758 - val_accuracy: 0.8896\n",
            "Epoch 7/20\n",
            "30/30 [==============================] - 1s 30ms/step - loss: 0.1666 - accuracy: 0.9527 - val_loss: 0.2735 - val_accuracy: 0.8896\n",
            "Epoch 8/20\n",
            "30/30 [==============================] - 1s 30ms/step - loss: 0.1502 - accuracy: 0.9569 - val_loss: 0.2739 - val_accuracy: 0.8891\n",
            "Epoch 9/20\n",
            "30/30 [==============================] - 1s 29ms/step - loss: 0.1371 - accuracy: 0.9615 - val_loss: 0.2780 - val_accuracy: 0.8869\n",
            "Epoch 10/20\n",
            "30/30 [==============================] - 1s 33ms/step - loss: 0.1245 - accuracy: 0.9663 - val_loss: 0.2858 - val_accuracy: 0.8861\n",
            "Epoch 11/20\n",
            "30/30 [==============================] - 1s 30ms/step - loss: 0.1147 - accuracy: 0.9695 - val_loss: 0.2886 - val_accuracy: 0.8834\n",
            "Epoch 12/20\n",
            "30/30 [==============================] - 1s 30ms/step - loss: 0.1046 - accuracy: 0.9734 - val_loss: 0.2896 - val_accuracy: 0.8855\n",
            "Epoch 13/20\n",
            "30/30 [==============================] - 1s 29ms/step - loss: 0.0965 - accuracy: 0.9761 - val_loss: 0.2968 - val_accuracy: 0.8834\n",
            "Epoch 14/20\n",
            "30/30 [==============================] - 1s 30ms/step - loss: 0.0884 - accuracy: 0.9786 - val_loss: 0.3020 - val_accuracy: 0.8832\n",
            "Epoch 15/20\n",
            "30/30 [==============================] - 1s 34ms/step - loss: 0.0812 - accuracy: 0.9814 - val_loss: 0.3099 - val_accuracy: 0.8841\n",
            "Epoch 16/20\n",
            "30/30 [==============================] - 1s 30ms/step - loss: 0.0754 - accuracy: 0.9827 - val_loss: 0.3223 - val_accuracy: 0.8820\n",
            "Epoch 17/20\n",
            "30/30 [==============================] - 1s 33ms/step - loss: 0.0685 - accuracy: 0.9857 - val_loss: 0.3242 - val_accuracy: 0.8807\n",
            "Epoch 18/20\n",
            "30/30 [==============================] - 1s 31ms/step - loss: 0.0635 - accuracy: 0.9871 - val_loss: 0.3340 - val_accuracy: 0.8808\n",
            "Epoch 19/20\n",
            "30/30 [==============================] - 1s 29ms/step - loss: 0.0583 - accuracy: 0.9888 - val_loss: 0.3453 - val_accuracy: 0.8810\n",
            "Epoch 20/20\n",
            "30/30 [==============================] - 1s 33ms/step - loss: 0.0538 - accuracy: 0.9898 - val_loss: 0.3524 - val_accuracy: 0.8789\n"
          ]
        }
      ],
      "source": [
        "from tensorflow.keras import models\n",
        "from tensorflow.keras import layers\n",
        "from tensorflow.keras import regularizers\n",
        "\n",
        "model = models.Sequential()\n",
        "model.add(layers.Dense(5, activation = 'relu', input_shape = (10000,)))\n",
        "model.add(layers.Dense(1, activation = 'sigmoid'))\n",
        "\n",
        "model.compile(optimizer='rmsprop',\n",
        "             loss='binary_crossentropy',\n",
        "             metrics=['accuracy'])\n",
        "model.summary()\n",
        "\n",
        "history = model.fit(partial_x_train, \n",
        "                    partial_y_train,\n",
        "                    epochs = 20,\n",
        "                    batch_size = 512,\n",
        "                    validation_data = (x_val, y_val)) "
      ]
    },
    {
      "cell_type": "markdown",
      "metadata": {
        "id": "rms7M-mbELJr"
      },
      "source": [
        "This bit of code is used as the matplotlib graph requires them as inputs"
      ]
    },
    {
      "cell_type": "code",
      "execution_count": null,
      "metadata": {
        "colab": {
          "base_uri": "https://localhost:8080/"
        },
        "id": "J2Fcz4qM5xh_",
        "outputId": "a2aee434-4ec5-4d9d-ccde-f4bd9480deeb"
      },
      "outputs": [
        {
          "data": {
            "text/plain": [
              "dict_keys(['loss', 'accuracy', 'val_loss', 'val_accuracy'])"
            ]
          },
          "execution_count": 5,
          "metadata": {},
          "output_type": "execute_result"
        }
      ],
      "source": [
        "history_dict = history.history\n",
        "history_dict.keys()"
      ]
    },
    {
      "cell_type": "markdown",
      "metadata": {
        "id": "xlWBL1qXDsdn"
      },
      "source": [
        "This code creates a graph that represents the loss quantity."
      ]
    },
    {
      "cell_type": "code",
      "execution_count": null,
      "metadata": {
        "colab": {
          "base_uri": "https://localhost:8080/",
          "height": 295
        },
        "id": "DtC2vJAwtjvW",
        "outputId": "2bd219db-d326-4a20-b9c4-d21b66a6df8d"
      },
      "outputs": [
        {
          "data": {
            "image/png": "[encoded data removed]",
            "text/plain": [
              "<Figure size 432x288 with 1 Axes>"
            ]
          },
          "metadata": {
            "needs_background": "light"
          },
          "output_type": "display_data"
        }
      ],
      "source": [
        "import matplotlib.pyplot as plt\n",
        "    \n",
        "def plot_loss():\n",
        "\n",
        "    history_dict = history.history\n",
        "    loss = history_dict['loss']\n",
        "    val_loss = history_dict['val_loss']\n",
        "\n",
        "    epochs = range(1, len(loss) + 1)\n",
        "\n",
        "    blue_dots = 'bo'\n",
        "    red_dots = 'ro'\n",
        "\n",
        "    plt.plot(epochs, loss, blue_dots, label = 'Training loss')\n",
        "    plt.plot(epochs, val_loss, red_dots, label = 'Validation loss')\n",
        "    plt.title('Training and Validation loss')\n",
        "    plt.xlabel('Epochs')\n",
        "    plt.ylabel('Loss')\n",
        "    plt.legend()\n",
        "    plt.show()\n",
        "    \n",
        "plot_loss()"
      ]
    },
    {
      "cell_type": "markdown",
      "metadata": {
        "id": "2mM2g-svD_kE"
      },
      "source": [
        "This code creates a graph that represents the accuracy quantity."
      ]
    },
    {
      "cell_type": "code",
      "execution_count": null,
      "metadata": {
        "colab": {
          "base_uri": "https://localhost:8080/",
          "height": 295
        },
        "id": "07WrqtqYtph3",
        "outputId": "a87afb8a-16ec-4259-cd41-8c980a60ce78"
      },
      "outputs": [
        {
          "data": {
            "image/png": "[encoded data removed]",
            "text/plain": [
              "<Figure size 432x288 with 1 Axes>"
            ]
          },
          "metadata": {
            "needs_background": "light"
          },
          "output_type": "display_data"
        }
      ],
      "source": [
        "def plot_accuracy():\n",
        "    \n",
        "    plt.clf()\n",
        "\n",
        "    acc = history_dict['accuracy']\n",
        "    val_acc = history_dict['val_accuracy']\n",
        "    \n",
        "    epochs = range(1, len(acc) + 1)\n",
        "    \n",
        "    plt.plot(epochs, acc, 'bo', label = 'Training acc')\n",
        "    plt.plot(epochs, val_acc, 'ro', label = 'Validation acc')\n",
        "    plt.title('Training and validation accuracy')\n",
        "    plt.xlabel('Epochs')\n",
        "    plt.ylabel('Accuracy')\n",
        "    plt.legend()\n",
        "\n",
        "    plt.show()\n",
        "    \n",
        "plot_accuracy()"
      ]
    },
    {
      "cell_type": "markdown",
      "metadata": {
        "id": "hmqkwYAyhwBl"
      },
      "source": [
        "## Model 1: Performance \n",
        "\n",
        "\n",
        "---\n",
        "\n",
        "\n",
        "|Model # |Number of layers | Number of hidden units | Regularisation Used | Results |\n",
        "|:-----------:|:-----------:|:---------------------:|:------------:|:------------:|\n",
        "1 | 2 | 5,1 | N/A | Best loss 0.2742, best accuracy at 0.8910.\n",
        "\n",
        "The table shows information like the model number, number of layers used in the experiment \n",
        "\n",
        "This model as well as all the models are validated using the 10,000 samples from the validation set to figure out how well the test data would do, the best accuracy was 0.8910 at 8 epochs and the best loss was 0.2742 at 8 epochs as well. The accuracy was way above 50% so this means that the training of the network can start and be carried out correctly.\n",
        "\n",
        "\n",
        "\n",
        "\n"
      ]
    },
    {
      "cell_type": "markdown",
      "metadata": {
        "id": "mu8QN4JU1TPX"
      },
      "source": [
        "## Developing a model that overfits \n",
        "\n",
        "Because of the underfitting that was present in model 1 one, building a model that will overfit so that we can implement regularisation to resolve the overfitting will allow us to get a model that will give us the best results, as well as the more models we create you find out what the best and optimum model will be.\n"
      ]
    },
    {
      "cell_type": "markdown",
      "metadata": {
        "id": "ondDLAbx4So6"
      },
      "source": [
        "## Model 2: 30 hidden units\n",
        "\n",
        "---\n",
        "\n"
      ]
    },
    {
      "cell_type": "code",
      "execution_count": null,
      "metadata": {
        "colab": {
          "base_uri": "https://localhost:8080/"
        },
        "id": "XrlMz-2O4Rl_",
        "outputId": "750399bf-bac2-424d-ea17-09e593c4dc59"
      },
      "outputs": [
        {
          "name": "stdout",
          "output_type": "stream",
          "text": [
            "Model: \"sequential_6\"\n",
            "_________________________________________________________________\n",
            " Layer (type)                Output Shape              Param #   \n",
            "=================================================================\n",
            " dense_12 (Dense)            (None, 30)                300030    \n",
            "                                                                 \n",
            " dense_13 (Dense)            (None, 1)                 31        \n",
            "                                                                 \n",
            "=================================================================\n",
            "Total params: 300,061\n",
            "Trainable params: 300,061\n",
            "Non-trainable params: 0\n",
            "_________________________________________________________________\n",
            "Epoch 1/20\n",
            "30/30 [==============================] - 4s 131ms/step - loss: 0.4835 - accuracy: 0.8006 - val_loss: 0.3752 - val_accuracy: 0.8598\n",
            "Epoch 2/20\n",
            "30/30 [==============================] - 1s 49ms/step - loss: 0.2938 - accuracy: 0.9068 - val_loss: 0.3018 - val_accuracy: 0.8879\n",
            "Epoch 3/20\n",
            "30/30 [==============================] - 1s 49ms/step - loss: 0.2219 - accuracy: 0.9312 - val_loss: 0.2801 - val_accuracy: 0.8906\n",
            "Epoch 4/20\n",
            "30/30 [==============================] - 1s 48ms/step - loss: 0.1803 - accuracy: 0.9423 - val_loss: 0.2737 - val_accuracy: 0.8889\n",
            "Epoch 5/20\n",
            "30/30 [==============================] - 1s 49ms/step - loss: 0.1525 - accuracy: 0.9525 - val_loss: 0.2774 - val_accuracy: 0.8897\n",
            "Epoch 6/20\n",
            "30/30 [==============================] - 1s 48ms/step - loss: 0.1272 - accuracy: 0.9625 - val_loss: 0.2954 - val_accuracy: 0.8834\n",
            "Epoch 7/20\n",
            "30/30 [==============================] - 2s 51ms/step - loss: 0.1110 - accuracy: 0.9685 - val_loss: 0.2966 - val_accuracy: 0.8847\n",
            "Epoch 8/20\n",
            "30/30 [==============================] - 2s 78ms/step - loss: 0.0938 - accuracy: 0.9750 - val_loss: 0.3153 - val_accuracy: 0.8795\n",
            "Epoch 9/20\n",
            "30/30 [==============================] - 2s 60ms/step - loss: 0.0819 - accuracy: 0.9793 - val_loss: 0.3204 - val_accuracy: 0.8827\n",
            "Epoch 10/20\n",
            "30/30 [==============================] - 1s 48ms/step - loss: 0.0705 - accuracy: 0.9823 - val_loss: 0.3530 - val_accuracy: 0.8792\n",
            "Epoch 11/20\n",
            "30/30 [==============================] - 1s 49ms/step - loss: 0.0619 - accuracy: 0.9858 - val_loss: 0.3762 - val_accuracy: 0.8697\n",
            "Epoch 12/20\n",
            "30/30 [==============================] - 1s 49ms/step - loss: 0.0530 - accuracy: 0.9885 - val_loss: 0.3721 - val_accuracy: 0.8750\n",
            "Epoch 13/20\n",
            "30/30 [==============================] - 1s 50ms/step - loss: 0.0462 - accuracy: 0.9907 - val_loss: 0.4287 - val_accuracy: 0.8710\n",
            "Epoch 14/20\n",
            "30/30 [==============================] - 1s 49ms/step - loss: 0.0395 - accuracy: 0.9918 - val_loss: 0.4197 - val_accuracy: 0.8678\n",
            "Epoch 15/20\n",
            "30/30 [==============================] - 1s 48ms/step - loss: 0.0332 - accuracy: 0.9943 - val_loss: 0.4394 - val_accuracy: 0.8732\n",
            "Epoch 16/20\n",
            "30/30 [==============================] - 1s 49ms/step - loss: 0.0289 - accuracy: 0.9952 - val_loss: 0.4578 - val_accuracy: 0.8693\n",
            "Epoch 17/20\n",
            "30/30 [==============================] - 1s 48ms/step - loss: 0.0245 - accuracy: 0.9962 - val_loss: 0.4783 - val_accuracy: 0.8703\n",
            "Epoch 18/20\n",
            "30/30 [==============================] - 1s 49ms/step - loss: 0.0204 - accuracy: 0.9976 - val_loss: 0.5067 - val_accuracy: 0.8696\n",
            "Epoch 19/20\n",
            "30/30 [==============================] - 1s 49ms/step - loss: 0.0171 - accuracy: 0.9988 - val_loss: 0.5289 - val_accuracy: 0.8675\n",
            "Epoch 20/20\n",
            "30/30 [==============================] - 1s 50ms/step - loss: 0.0151 - accuracy: 0.9987 - val_loss: 0.5564 - val_accuracy: 0.8655\n"
          ]
        }
      ],
      "source": [
        "model = models.Sequential()\n",
        "model.add(layers.Dense(30, activation = 'relu', input_shape = (10000,)))\n",
        "model.add(layers.Dense(1, activation = 'sigmoid'))\n",
        "\n",
        "model.compile(optimizer='rmsprop',\n",
        "             loss='binary_crossentropy',\n",
        "             metrics=['accuracy'])\n",
        "model.summary()\n",
        "\n",
        "history = model.fit(partial_x_train, \n",
        "                    partial_y_train,\n",
        "                    epochs = 20,\n",
        "                    batch_size = 512,\n",
        "                    validation_data = (x_val, y_val)) "
      ]
    },
    {
      "cell_type": "code",
      "execution_count": null,
      "metadata": {
        "colab": {
          "base_uri": "https://localhost:8080/",
          "height": 295
        },
        "id": "745QNINZ5E60",
        "outputId": "ac3a90b0-4354-42b8-baae-3e0de6565517"
      },
      "outputs": [
        {
          "data": {
            "image/png": "[encoded data removed]",
            "text/plain": [
              "<Figure size 432x288 with 1 Axes>"
            ]
          },
          "metadata": {
            "needs_background": "light"
          },
          "output_type": "display_data"
        }
      ],
      "source": [
        "plot_loss()"
      ]
    },
    {
      "cell_type": "code",
      "execution_count": null,
      "metadata": {
        "colab": {
          "base_uri": "https://localhost:8080/",
          "height": 295
        },
        "id": "mBa8myWF5KHQ",
        "outputId": "db3f0b15-c05f-445b-8f54-46bb1cd0cc19"
      },
      "outputs": [
        {
          "data": {
            "image/png": "[encoded data removed]",
            "text/plain": [
              "<Figure size 432x288 with 1 Axes>"
            ]
          },
          "metadata": {
            "needs_background": "light"
          },
          "output_type": "display_data"
        }
      ],
      "source": [
        "plot_accuracy()"
      ]
    },
    {
      "cell_type": "markdown",
      "metadata": {
        "id": "hbXjK-f4-e7a"
      },
      "source": [
        "## Model 2: Performance\n",
        "\n",
        "---\n",
        "\n",
        "|Model # |Number of layers | Number of hidden units | Regularisation Used | Results |\n",
        "|:-----------:|:-----------:|:---------------------:|:------------:|:------------:|\n",
        "1 | 2 | 5,1 | N/A | Best loss 0.2742, best accuracy at 0.8910.\n",
        "2 | 2 | 30,1 | N/A | Best loss 0.2737, best accuracy 0.8906. \n",
        "\n",
        "model 2 has the best loss of 0.2737 and the best accuracy of 0.8906 like the first one, however the loss after the 4th epoch increases drastically and the peak performance was hit very early on. This model had the best loss out of all the models so far. This model experienced overfitting. \n",
        "\n",
        "\n"
      ]
    },
    {
      "cell_type": "markdown",
      "metadata": {
        "id": "_5A7v1A-D3Ke"
      },
      "source": [
        "## Tuning the hyperparameters and regularisation of the model\n",
        "\n",
        "---\n",
        "\n",
        "When a model overfits, the hyperparameters must be adjusted and it must implement regularising, this includes adding dropout lays, adding layers, L1/L2 regularisation. This is what is done in further models \n",
        "\n"
      ]
    },
    {
      "cell_type": "markdown",
      "metadata": {
        "id": "Grkwq81sMSI5"
      },
      "source": [
        "## Model 3: hidden units to 15\n",
        "\n",
        "---\n",
        "\n",
        "\n",
        "\n"
      ]
    },
    {
      "cell_type": "code",
      "execution_count": null,
      "metadata": {
        "colab": {
          "base_uri": "https://localhost:8080/"
        },
        "id": "lgHPJoGfM6JJ",
        "outputId": "3e195b89-8e56-4049-baad-6c956e43efeb"
      },
      "outputs": [
        {
          "name": "stdout",
          "output_type": "stream",
          "text": [
            "Model: \"sequential_9\"\n",
            "_________________________________________________________________\n",
            " Layer (type)                Output Shape              Param #   \n",
            "=================================================================\n",
            " dense_18 (Dense)            (None, 15)                150015    \n",
            "                                                                 \n",
            " dense_19 (Dense)            (None, 1)                 16        \n",
            "                                                                 \n",
            "=================================================================\n",
            "Total params: 150,031\n",
            "Trainable params: 150,031\n",
            "Non-trainable params: 0\n",
            "_________________________________________________________________\n",
            "Epoch 1/20\n",
            "30/30 [==============================] - 3s 87ms/step - loss: 0.5120 - accuracy: 0.8019 - val_loss: 0.4423 - val_accuracy: 0.8031\n",
            "Epoch 2/20\n",
            "30/30 [==============================] - 1s 44ms/step - loss: 0.3316 - accuracy: 0.8982 - val_loss: 0.3332 - val_accuracy: 0.8828\n",
            "Epoch 3/20\n",
            "30/30 [==============================] - 1s 41ms/step - loss: 0.2562 - accuracy: 0.9217 - val_loss: 0.2980 - val_accuracy: 0.8898\n",
            "Epoch 4/20\n",
            "30/30 [==============================] - 1s 40ms/step - loss: 0.2115 - accuracy: 0.9357 - val_loss: 0.2809 - val_accuracy: 0.8927\n",
            "Epoch 5/20\n",
            "30/30 [==============================] - 1s 41ms/step - loss: 0.1804 - accuracy: 0.9469 - val_loss: 0.2878 - val_accuracy: 0.8831\n",
            "Epoch 6/20\n",
            "30/30 [==============================] - 1s 41ms/step - loss: 0.1549 - accuracy: 0.9545 - val_loss: 0.2775 - val_accuracy: 0.8880\n",
            "Epoch 7/20\n",
            "30/30 [==============================] - 1s 42ms/step - loss: 0.1347 - accuracy: 0.9618 - val_loss: 0.2797 - val_accuracy: 0.8878\n",
            "Epoch 8/20\n",
            "30/30 [==============================] - 1s 41ms/step - loss: 0.1195 - accuracy: 0.9665 - val_loss: 0.2856 - val_accuracy: 0.8858\n",
            "Epoch 9/20\n",
            "30/30 [==============================] - 1s 42ms/step - loss: 0.1048 - accuracy: 0.9713 - val_loss: 0.2964 - val_accuracy: 0.8826\n",
            "Epoch 10/20\n",
            "30/30 [==============================] - 1s 41ms/step - loss: 0.0927 - accuracy: 0.9779 - val_loss: 0.3049 - val_accuracy: 0.8846\n",
            "Epoch 11/20\n",
            "30/30 [==============================] - 1s 42ms/step - loss: 0.0816 - accuracy: 0.9796 - val_loss: 0.3157 - val_accuracy: 0.8825\n",
            "Epoch 12/20\n",
            "30/30 [==============================] - 1s 42ms/step - loss: 0.0724 - accuracy: 0.9838 - val_loss: 0.3412 - val_accuracy: 0.8739\n",
            "Epoch 13/20\n",
            "30/30 [==============================] - 1s 42ms/step - loss: 0.0640 - accuracy: 0.9855 - val_loss: 0.3633 - val_accuracy: 0.8764\n",
            "Epoch 14/20\n",
            "30/30 [==============================] - 1s 42ms/step - loss: 0.0576 - accuracy: 0.9878 - val_loss: 0.3562 - val_accuracy: 0.8746\n",
            "Epoch 15/20\n",
            "30/30 [==============================] - 1s 42ms/step - loss: 0.0498 - accuracy: 0.9905 - val_loss: 0.3669 - val_accuracy: 0.8761\n",
            "Epoch 16/20\n",
            "30/30 [==============================] - 1s 41ms/step - loss: 0.0443 - accuracy: 0.9928 - val_loss: 0.3829 - val_accuracy: 0.8758\n",
            "Epoch 17/20\n",
            "30/30 [==============================] - 1s 42ms/step - loss: 0.0389 - accuracy: 0.9935 - val_loss: 0.3990 - val_accuracy: 0.8751\n",
            "Epoch 18/20\n",
            "30/30 [==============================] - 1s 43ms/step - loss: 0.0344 - accuracy: 0.9949 - val_loss: 0.4149 - val_accuracy: 0.8740\n",
            "Epoch 19/20\n",
            "30/30 [==============================] - 1s 41ms/step - loss: 0.0303 - accuracy: 0.9961 - val_loss: 0.4346 - val_accuracy: 0.8726\n",
            "Epoch 20/20\n",
            "30/30 [==============================] - 1s 41ms/step - loss: 0.0256 - accuracy: 0.9969 - val_loss: 0.4509 - val_accuracy: 0.8722\n"
          ]
        }
      ],
      "source": [
        "model = models.Sequential()\n",
        "model.add(layers.Dense(15, activation = 'relu', input_shape = (10000,)))\n",
        "model.add(layers.Dense(1, activation = 'sigmoid'))\n",
        "\n",
        "model.compile(optimizer='rmsprop',\n",
        "             loss='binary_crossentropy',\n",
        "             metrics=['accuracy'])\n",
        "model.summary()\n",
        "\n",
        "history = model.fit(partial_x_train, \n",
        "                    partial_y_train,\n",
        "                    epochs = 20,\n",
        "                    batch_size = 512,\n",
        "                    validation_data = (x_val, y_val)) "
      ]
    },
    {
      "cell_type": "code",
      "execution_count": null,
      "metadata": {
        "colab": {
          "base_uri": "https://localhost:8080/",
          "height": 295
        },
        "id": "B7qcdESLNssz",
        "outputId": "1836ae5b-f0e4-416a-e0ee-631e85faa1ec"
      },
      "outputs": [
        {
          "data": {
            "image/png": "[encoded data removed]",
            "text/plain": [
              "<Figure size 432x288 with 1 Axes>"
            ]
          },
          "metadata": {
            "needs_background": "light"
          },
          "output_type": "display_data"
        }
      ],
      "source": [
        "plot_loss()"
      ]
    },
    {
      "cell_type": "code",
      "execution_count": null,
      "metadata": {
        "colab": {
          "base_uri": "https://localhost:8080/",
          "height": 295
        },
        "id": "XQ0QnZ6wOEfi",
        "outputId": "a1f80978-dc2d-4d18-b7c2-09c0c1fa07b8"
      },
      "outputs": [
        {
          "data": {
            "image/png": "[encoded data removed]",
            "text/plain": [
              "<Figure size 432x288 with 1 Axes>"
            ]
          },
          "metadata": {
            "needs_background": "light"
          },
          "output_type": "display_data"
        }
      ],
      "source": [
        "plot_accuracy()"
      ]
    },
    {
      "cell_type": "markdown",
      "metadata": {
        "id": "ODVb8-JSOIGI"
      },
      "source": [
        "## Model 3: performance\n",
        "\n",
        "---\n",
        "\n",
        "|Model # |Number of layers | Number of hidden units | Regularisation Used | Results |\n",
        "|:-----------:|:-----------:|:---------------------:|:------------:|:------------:|\n",
        "1 | 2 | 5,1 | N/A | Best loss 0.2742, best accuracy at 0.8910.\n",
        "2 | 2 | 30,1 | N/A | Best loss 0.2737, best accuracy 0.8906. \n",
        "3 | 2 | 15,1 | N/A | Best loss 0.2775, best accuracy 0.8927. \n",
        "\n",
        "The output of model 3 got the best loss of 0.2775 and the best accuracy of 0.8927. This had the best accuracy of any model and the best accuracy was hit very early on epoch number 4 and the best loss at epoch 6. This model produced better results and better overfitting than model 2 so I will consider this model in my final model.\n",
        "\n",
        "In the next experiment i will tune model 3 to decrease overfitting and to create a final model that i can use. The next step is to add another layer.\n"
      ]
    },
    {
      "cell_type": "markdown",
      "metadata": {
        "id": "wxigE1oaTtcf"
      },
      "source": [
        "## Model 4: add a layer \n",
        "\n",
        "---\n",
        "\n"
      ]
    },
    {
      "cell_type": "code",
      "execution_count": null,
      "metadata": {
        "colab": {
          "base_uri": "https://localhost:8080/"
        },
        "id": "Y27MTD2zT0bF",
        "outputId": "283d56a5-970a-4c68-ac75-15ec0a1f65d4"
      },
      "outputs": [
        {
          "name": "stdout",
          "output_type": "stream",
          "text": [
            "Model: \"sequential_10\"\n",
            "_________________________________________________________________\n",
            " Layer (type)                Output Shape              Param #   \n",
            "=================================================================\n",
            " dense_20 (Dense)            (None, 15)                150015    \n",
            "                                                                 \n",
            " dense_21 (Dense)            (None, 15)                240       \n",
            "                                                                 \n",
            " dense_22 (Dense)            (None, 1)                 16        \n",
            "                                                                 \n",
            "=================================================================\n",
            "Total params: 150,271\n",
            "Trainable params: 150,271\n",
            "Non-trainable params: 0\n",
            "_________________________________________________________________\n",
            "Epoch 1/20\n",
            "30/30 [==============================] - 4s 99ms/step - loss: 0.5463 - accuracy: 0.7723 - val_loss: 0.4266 - val_accuracy: 0.8725\n",
            "Epoch 2/20\n",
            "30/30 [==============================] - 1s 41ms/step - loss: 0.3470 - accuracy: 0.9009 - val_loss: 0.3327 - val_accuracy: 0.8867\n",
            "Epoch 3/20\n",
            "30/30 [==============================] - 1s 43ms/step - loss: 0.2537 - accuracy: 0.9249 - val_loss: 0.2925 - val_accuracy: 0.8904\n",
            "Epoch 4/20\n",
            "30/30 [==============================] - 1s 41ms/step - loss: 0.1963 - accuracy: 0.9389 - val_loss: 0.2790 - val_accuracy: 0.8905\n",
            "Epoch 5/20\n",
            "30/30 [==============================] - 1s 41ms/step - loss: 0.1576 - accuracy: 0.9533 - val_loss: 0.2999 - val_accuracy: 0.8790\n",
            "Epoch 6/20\n",
            "30/30 [==============================] - 1s 41ms/step - loss: 0.1288 - accuracy: 0.9623 - val_loss: 0.2891 - val_accuracy: 0.8849\n",
            "Epoch 7/20\n",
            "30/30 [==============================] - 1s 42ms/step - loss: 0.1056 - accuracy: 0.9706 - val_loss: 0.3586 - val_accuracy: 0.8723\n",
            "Epoch 8/20\n",
            "30/30 [==============================] - 1s 41ms/step - loss: 0.0870 - accuracy: 0.9773 - val_loss: 0.3176 - val_accuracy: 0.8806\n",
            "Epoch 9/20\n",
            "30/30 [==============================] - 1s 41ms/step - loss: 0.0717 - accuracy: 0.9835 - val_loss: 0.3380 - val_accuracy: 0.8810\n",
            "Epoch 10/20\n",
            "30/30 [==============================] - 1s 41ms/step - loss: 0.0583 - accuracy: 0.9871 - val_loss: 0.3677 - val_accuracy: 0.8793\n",
            "Epoch 11/20\n",
            "30/30 [==============================] - 1s 42ms/step - loss: 0.0472 - accuracy: 0.9909 - val_loss: 0.3883 - val_accuracy: 0.8736\n",
            "Epoch 12/20\n",
            "30/30 [==============================] - 1s 42ms/step - loss: 0.0392 - accuracy: 0.9926 - val_loss: 0.4238 - val_accuracy: 0.8766\n",
            "Epoch 13/20\n",
            "30/30 [==============================] - 1s 41ms/step - loss: 0.0302 - accuracy: 0.9955 - val_loss: 0.4333 - val_accuracy: 0.8736\n",
            "Epoch 14/20\n",
            "30/30 [==============================] - 1s 42ms/step - loss: 0.0229 - accuracy: 0.9968 - val_loss: 0.4611 - val_accuracy: 0.8725\n",
            "Epoch 15/20\n",
            "30/30 [==============================] - 1s 41ms/step - loss: 0.0197 - accuracy: 0.9973 - val_loss: 0.4937 - val_accuracy: 0.8707\n",
            "Epoch 16/20\n",
            "30/30 [==============================] - 1s 40ms/step - loss: 0.0156 - accuracy: 0.9976 - val_loss: 0.5204 - val_accuracy: 0.8689\n",
            "Epoch 17/20\n",
            "30/30 [==============================] - 1s 42ms/step - loss: 0.0105 - accuracy: 0.9991 - val_loss: 0.5670 - val_accuracy: 0.8702\n",
            "Epoch 18/20\n",
            "30/30 [==============================] - 2s 57ms/step - loss: 0.0097 - accuracy: 0.9992 - val_loss: 0.5956 - val_accuracy: 0.8694\n",
            "Epoch 19/20\n",
            "30/30 [==============================] - 1s 48ms/step - loss: 0.0077 - accuracy: 0.9993 - val_loss: 0.6187 - val_accuracy: 0.8656\n",
            "Epoch 20/20\n",
            "30/30 [==============================] - 2s 59ms/step - loss: 0.0053 - accuracy: 0.9994 - val_loss: 0.6535 - val_accuracy: 0.8660\n"
          ]
        }
      ],
      "source": [
        "model = models.Sequential()\n",
        "model.add(layers.Dense(15, activation = 'relu', input_shape = (10000,)))\n",
        "model.add(layers.Dense(15, activation = 'relu'))\n",
        "model.add(layers.Dense(1, activation = 'sigmoid'))\n",
        "\n",
        "model.compile(optimizer='rmsprop',\n",
        "             loss='binary_crossentropy',\n",
        "             metrics=['accuracy'])\n",
        "model.summary()\n",
        "\n",
        "history = model.fit(partial_x_train, \n",
        "                    partial_y_train,\n",
        "                    epochs = 20,\n",
        "                    batch_size = 512,\n",
        "                    validation_data = (x_val, y_val)) "
      ]
    },
    {
      "cell_type": "code",
      "execution_count": null,
      "metadata": {
        "colab": {
          "base_uri": "https://localhost:8080/",
          "height": 295
        },
        "id": "MQ2W5E-rUHWi",
        "outputId": "a8ca964a-773c-42f6-d024-620dd322dd2c"
      },
      "outputs": [
        {
          "data": {
            "image/png": "[encoded data removed]",
            "text/plain": [
              "<Figure size 432x288 with 1 Axes>"
            ]
          },
          "metadata": {
            "needs_background": "light"
          },
          "output_type": "display_data"
        }
      ],
      "source": [
        "plot_loss()"
      ]
    },
    {
      "cell_type": "code",
      "execution_count": null,
      "metadata": {
        "colab": {
          "base_uri": "https://localhost:8080/",
          "height": 295
        },
        "id": "drrq4Al4UMQw",
        "outputId": "d42aafb6-30eb-4881-fa35-1a9f062e1687"
      },
      "outputs": [
        {
          "data": {
            "image/png": "[encoded data removed]",
            "text/plain": [
              "<Figure size 432x288 with 1 Axes>"
            ]
          },
          "metadata": {
            "needs_background": "light"
          },
          "output_type": "display_data"
        }
      ],
      "source": [
        "plot_accuracy()"
      ]
    },
    {
      "cell_type": "markdown",
      "metadata": {
        "id": "UsMArOY3UXAP"
      },
      "source": [
        "## Model 4 Performance\n",
        "\n",
        "---\n",
        "\n",
        "|Model # |Number of layers | Number of hidden units | Regularisation Used | Results |\n",
        "|:-----------:|:-----------:|:---------------------:|:------------:|:------------:|\n",
        "1 | 2 | 5,1 | N/A | Best loss 0.2742, best accuracy at 0.8910.\n",
        "2 | 2 | 30,1 | N/A | Best loss 0.2737, best accuracy 0.8906. \n",
        "3 | 2 | 15,1 | N/A | Best loss 0.2775, best accuracy 0.8927. \n",
        "4 | 3 | 15,15,1 | N/A | Best loss 0.2790, best accuracy 0.8905. "
      ]
    },
    {
      "cell_type": "markdown",
      "metadata": {
        "id": "l4qvTEtqVS2a"
      },
      "source": [
        "Model 4 achieved a best loss of 0.2790 and the best accuracy of 0.8905 which was reached at the epoch of 4, very similar to model 3 but the results were worse than model 3 because of the drastic increase in the loss more than model 3. Because of this I most likely will not consider this in the final implementation. \n",
        "\n"
      ]
    },
    {
      "cell_type": "markdown",
      "metadata": {
        "id": "C7VvGLZfaFYy"
      },
      "source": [
        "## Model 5: hidden units to 8\n",
        "\n",
        "---\n",
        "\n"
      ]
    },
    {
      "cell_type": "code",
      "execution_count": null,
      "metadata": {
        "colab": {
          "base_uri": "https://localhost:8080/"
        },
        "id": "MJmhbxMxZ_za",
        "outputId": "bc79ed78-12f5-4b14-8900-74a49a5d045f"
      },
      "outputs": [
        {
          "name": "stdout",
          "output_type": "stream",
          "text": [
            "Model: \"sequential_11\"\n",
            "_________________________________________________________________\n",
            " Layer (type)                Output Shape              Param #   \n",
            "=================================================================\n",
            " dense_23 (Dense)            (None, 8)                 80008     \n",
            "                                                                 \n",
            " dense_24 (Dense)            (None, 1)                 9         \n",
            "                                                                 \n",
            "=================================================================\n",
            "Total params: 80,017\n",
            "Trainable params: 80,017\n",
            "Non-trainable params: 0\n",
            "_________________________________________________________________\n",
            "Epoch 1/20\n",
            "30/30 [==============================] - 4s 69ms/step - loss: 0.5637 - accuracy: 0.7917 - val_loss: 0.4725 - val_accuracy: 0.8584\n",
            "Epoch 2/20\n",
            "30/30 [==============================] - 1s 40ms/step - loss: 0.4066 - accuracy: 0.8871 - val_loss: 0.3875 - val_accuracy: 0.8742\n",
            "Epoch 3/20\n",
            "30/30 [==============================] - 1s 46ms/step - loss: 0.3238 - accuracy: 0.9068 - val_loss: 0.3366 - val_accuracy: 0.8833\n",
            "Epoch 4/20\n",
            "30/30 [==============================] - 1s 37ms/step - loss: 0.2686 - accuracy: 0.9236 - val_loss: 0.3082 - val_accuracy: 0.8881\n",
            "Epoch 5/20\n",
            "30/30 [==============================] - 1s 38ms/step - loss: 0.2308 - accuracy: 0.9296 - val_loss: 0.2905 - val_accuracy: 0.8915\n",
            "Epoch 6/20\n",
            "30/30 [==============================] - 1s 40ms/step - loss: 0.2023 - accuracy: 0.9391 - val_loss: 0.2808 - val_accuracy: 0.8914\n",
            "Epoch 7/20\n",
            "30/30 [==============================] - 1s 37ms/step - loss: 0.1802 - accuracy: 0.9461 - val_loss: 0.2813 - val_accuracy: 0.8881\n",
            "Epoch 8/20\n",
            "30/30 [==============================] - 1s 37ms/step - loss: 0.1619 - accuracy: 0.9529 - val_loss: 0.2757 - val_accuracy: 0.8905\n",
            "Epoch 9/20\n",
            "30/30 [==============================] - 1s 37ms/step - loss: 0.1461 - accuracy: 0.9572 - val_loss: 0.2806 - val_accuracy: 0.8869\n",
            "Epoch 10/20\n",
            "30/30 [==============================] - 1s 37ms/step - loss: 0.1328 - accuracy: 0.9622 - val_loss: 0.2778 - val_accuracy: 0.8896\n",
            "Epoch 11/20\n",
            "30/30 [==============================] - 1s 40ms/step - loss: 0.1213 - accuracy: 0.9656 - val_loss: 0.2818 - val_accuracy: 0.8880\n",
            "Epoch 12/20\n",
            "30/30 [==============================] - 1s 37ms/step - loss: 0.1107 - accuracy: 0.9701 - val_loss: 0.2868 - val_accuracy: 0.8879\n",
            "Epoch 13/20\n",
            "30/30 [==============================] - 1s 39ms/step - loss: 0.1013 - accuracy: 0.9733 - val_loss: 0.2949 - val_accuracy: 0.8857\n",
            "Epoch 14/20\n",
            "30/30 [==============================] - 1s 41ms/step - loss: 0.0925 - accuracy: 0.9759 - val_loss: 0.3037 - val_accuracy: 0.8839\n",
            "Epoch 15/20\n",
            "30/30 [==============================] - 1s 43ms/step - loss: 0.0847 - accuracy: 0.9786 - val_loss: 0.3063 - val_accuracy: 0.8848\n",
            "Epoch 16/20\n",
            "30/30 [==============================] - 1s 40ms/step - loss: 0.0772 - accuracy: 0.9815 - val_loss: 0.3153 - val_accuracy: 0.8838\n",
            "Epoch 17/20\n",
            "30/30 [==============================] - 1s 38ms/step - loss: 0.0711 - accuracy: 0.9842 - val_loss: 0.3268 - val_accuracy: 0.8831\n",
            "Epoch 18/20\n",
            "30/30 [==============================] - 2s 55ms/step - loss: 0.0648 - accuracy: 0.9859 - val_loss: 0.3345 - val_accuracy: 0.8823\n",
            "Epoch 19/20\n",
            "30/30 [==============================] - 1s 50ms/step - loss: 0.0594 - accuracy: 0.9877 - val_loss: 0.3438 - val_accuracy: 0.8801\n",
            "Epoch 20/20\n",
            "30/30 [==============================] - 2s 50ms/step - loss: 0.0542 - accuracy: 0.9892 - val_loss: 0.3636 - val_accuracy: 0.8799\n"
          ]
        }
      ],
      "source": [
        "model = models.Sequential()\n",
        "model.add(layers.Dense(8, activation = 'relu', input_shape = (10000,)))\n",
        "model.add(layers.Dense(1, activation = 'sigmoid'))\n",
        "\n",
        "model.compile(optimizer='rmsprop',\n",
        "             loss='binary_crossentropy',\n",
        "             metrics=['accuracy'])\n",
        "model.summary()\n",
        "\n",
        "history = model.fit(partial_x_train, \n",
        "                    partial_y_train,\n",
        "                    epochs = 20,\n",
        "                    batch_size = 512,\n",
        "                    validation_data = (x_val, y_val)) "
      ]
    },
    {
      "cell_type": "code",
      "execution_count": null,
      "metadata": {
        "colab": {
          "base_uri": "https://localhost:8080/",
          "height": 295
        },
        "id": "YOh0R6QraxCj",
        "outputId": "f7047233-96c8-4d23-af90-f47885b73d62"
      },
      "outputs": [
        {
          "data": {
            "image/png": "[encoded data removed]",
            "text/plain": [
              "<Figure size 432x288 with 1 Axes>"
            ]
          },
          "metadata": {
            "needs_background": "light"
          },
          "output_type": "display_data"
        }
      ],
      "source": [
        "plot_loss()"
      ]
    },
    {
      "cell_type": "code",
      "execution_count": null,
      "metadata": {
        "colab": {
          "base_uri": "https://localhost:8080/",
          "height": 295
        },
        "id": "n143LPDQaz4N",
        "outputId": "ef5cc2ca-e5b9-412f-899d-45c7bfd080dc"
      },
      "outputs": [
        {
          "data": {
            "image/png": "[encoded data removed]",
            "text/plain": [
              "<Figure size 432x288 with 1 Axes>"
            ]
          },
          "metadata": {
            "needs_background": "light"
          },
          "output_type": "display_data"
        }
      ],
      "source": [
        "plot_accuracy()"
      ]
    },
    {
      "cell_type": "markdown",
      "metadata": {
        "id": "M3SbPdlSa7Pf"
      },
      "source": [
        "## Model 5: performance\n",
        "\n",
        "---\n",
        "\n",
        "\n",
        "\n",
        "|Model # |Number of layers | Number of hidden units | Regularisation Used | Results |\n",
        "|:-----------:|:-----------:|:---------------------:|:------------:|:------------:|\n",
        "1 | 2 | 5,1 | N/A | Best loss 0.2742, best accuracy at 0.8910.\n",
        "2 | 2 | 30,1 | N/A | Best loss 0.2737, best accuracy 0.8906. \n",
        "3 | 2 | 15,1 | N/A | Best loss 0.2775, best accuracy 0.8927. \n",
        "4 | 3 | 15,15,1 | N/A | Best loss 0.2790, best accuracy 0.8905. \n",
        "5 | 2 | 8,1 | N/A | Best loss 0.2757, best accuracy 0.8915. \n",
        "\n",
        "The best loss achieved was 0.2757 at epoch 8 and the best accuracy was 0.8915 at epoch 5, this was a slight change for model 3 however overfitting was reduced and because of that I will consider this in the final model. "
      ]
    },
    {
      "cell_type": "markdown",
      "metadata": {
        "id": "i51f9tJLcbIW"
      },
      "source": [
        "## Model 6: Adding a dropout 0.5\n",
        "\n",
        "---\n",
        "\n"
      ]
    },
    {
      "cell_type": "code",
      "execution_count": null,
      "metadata": {
        "colab": {
          "base_uri": "https://localhost:8080/"
        },
        "id": "CdwumIdxczEI",
        "outputId": "4f2bb880-ab6f-4dd1-ad20-418ed7b49fd5"
      },
      "outputs": [
        {
          "name": "stdout",
          "output_type": "stream",
          "text": [
            "Model: \"sequential_12\"\n",
            "_________________________________________________________________\n",
            " Layer (type)                Output Shape              Param #   \n",
            "=================================================================\n",
            " dense_25 (Dense)            (None, 15)                150015    \n",
            "                                                                 \n",
            " dropout (Dropout)           (None, 15)                0         \n",
            "                                                                 \n",
            " dense_26 (Dense)            (None, 1)                 16        \n",
            "                                                                 \n",
            "=================================================================\n",
            "Total params: 150,031\n",
            "Trainable params: 150,031\n",
            "Non-trainable params: 0\n",
            "_________________________________________________________________\n",
            "Epoch 1/20\n",
            "30/30 [==============================] - 3s 67ms/step - loss: 0.5526 - accuracy: 0.7416 - val_loss: 0.4468 - val_accuracy: 0.8559\n",
            "Epoch 2/20\n",
            "30/30 [==============================] - 1s 41ms/step - loss: 0.4038 - accuracy: 0.8543 - val_loss: 0.3640 - val_accuracy: 0.8777\n",
            "Epoch 3/20\n",
            "30/30 [==============================] - 1s 42ms/step - loss: 0.3366 - accuracy: 0.8841 - val_loss: 0.3212 - val_accuracy: 0.8857\n",
            "Epoch 4/20\n",
            "30/30 [==============================] - 2s 62ms/step - loss: 0.2913 - accuracy: 0.9018 - val_loss: 0.3191 - val_accuracy: 0.8763\n",
            "Epoch 5/20\n",
            "30/30 [==============================] - 2s 79ms/step - loss: 0.2600 - accuracy: 0.9148 - val_loss: 0.2880 - val_accuracy: 0.8867\n",
            "Epoch 6/20\n",
            "30/30 [==============================] - 1s 43ms/step - loss: 0.2371 - accuracy: 0.9213 - val_loss: 0.2805 - val_accuracy: 0.8892\n",
            "Epoch 7/20\n",
            "30/30 [==============================] - 1s 41ms/step - loss: 0.2105 - accuracy: 0.9324 - val_loss: 0.2716 - val_accuracy: 0.8900\n",
            "Epoch 8/20\n",
            "30/30 [==============================] - 1s 41ms/step - loss: 0.1917 - accuracy: 0.9397 - val_loss: 0.2710 - val_accuracy: 0.8908\n",
            "Epoch 9/20\n",
            "30/30 [==============================] - 1s 40ms/step - loss: 0.1783 - accuracy: 0.9463 - val_loss: 0.2761 - val_accuracy: 0.8878\n",
            "Epoch 10/20\n",
            "30/30 [==============================] - 1s 40ms/step - loss: 0.1645 - accuracy: 0.9488 - val_loss: 0.2747 - val_accuracy: 0.8896\n",
            "Epoch 11/20\n",
            "30/30 [==============================] - 1s 43ms/step - loss: 0.1515 - accuracy: 0.9531 - val_loss: 0.3017 - val_accuracy: 0.8828\n",
            "Epoch 12/20\n",
            "30/30 [==============================] - 1s 50ms/step - loss: 0.1397 - accuracy: 0.9572 - val_loss: 0.2802 - val_accuracy: 0.8899\n",
            "Epoch 13/20\n",
            "30/30 [==============================] - 1s 41ms/step - loss: 0.1323 - accuracy: 0.9609 - val_loss: 0.2888 - val_accuracy: 0.8887\n",
            "Epoch 14/20\n",
            "30/30 [==============================] - 1s 40ms/step - loss: 0.1220 - accuracy: 0.9655 - val_loss: 0.2988 - val_accuracy: 0.8865\n",
            "Epoch 15/20\n",
            "30/30 [==============================] - 1s 41ms/step - loss: 0.1114 - accuracy: 0.9679 - val_loss: 0.3037 - val_accuracy: 0.8868\n",
            "Epoch 16/20\n",
            "30/30 [==============================] - 1s 41ms/step - loss: 0.1041 - accuracy: 0.9702 - val_loss: 0.3130 - val_accuracy: 0.8847\n",
            "Epoch 17/20\n",
            "30/30 [==============================] - 2s 52ms/step - loss: 0.0985 - accuracy: 0.9734 - val_loss: 0.3216 - val_accuracy: 0.8864\n",
            "Epoch 18/20\n",
            "30/30 [==============================] - 1s 43ms/step - loss: 0.0901 - accuracy: 0.9767 - val_loss: 0.3308 - val_accuracy: 0.8849\n",
            "Epoch 19/20\n",
            "30/30 [==============================] - 1s 47ms/step - loss: 0.0833 - accuracy: 0.9787 - val_loss: 0.3402 - val_accuracy: 0.8828\n",
            "Epoch 20/20\n",
            "30/30 [==============================] - 2s 75ms/step - loss: 0.0789 - accuracy: 0.9797 - val_loss: 0.3714 - val_accuracy: 0.8795\n"
          ]
        }
      ],
      "source": [
        "model = models.Sequential()\n",
        "model.add(layers.Dense(15, activation = 'relu', input_shape = (10000,)))\n",
        "model.add(layers.Dropout(0.5))\n",
        "model.add(layers.Dense(1, activation = 'sigmoid'))\n",
        "\n",
        "model.compile(optimizer='rmsprop',\n",
        "             loss='binary_crossentropy',\n",
        "             metrics=['accuracy'])\n",
        "model.summary()\n",
        "history = model.fit(partial_x_train, \n",
        "                    partial_y_train,\n",
        "                    epochs = 20,\n",
        "                    batch_size = 512,\n",
        "                    validation_data = (x_val, y_val)) "
      ]
    },
    {
      "cell_type": "code",
      "execution_count": null,
      "metadata": {
        "colab": {
          "base_uri": "https://localhost:8080/",
          "height": 295
        },
        "id": "uI4KjmBZfsTO",
        "outputId": "30dbaa11-ef8e-4102-a070-e0aa54ad0711"
      },
      "outputs": [
        {
          "data": {
            "image/png": "[encoded data removed]",
            "text/plain": [
              "<Figure size 432x288 with 1 Axes>"
            ]
          },
          "metadata": {
            "needs_background": "light"
          },
          "output_type": "display_data"
        }
      ],
      "source": [
        "plot_loss()"
      ]
    },
    {
      "cell_type": "code",
      "execution_count": null,
      "metadata": {
        "colab": {
          "base_uri": "https://localhost:8080/",
          "height": 295
        },
        "id": "MP59z5W5fwFJ",
        "outputId": "f21e159f-3834-4f71-a398-7c27063195d7"
      },
      "outputs": [
        {
          "data": {
            "image/png": "[encoded data removed]",
            "text/plain": [
              "<Figure size 432x288 with 1 Axes>"
            ]
          },
          "metadata": {
            "needs_background": "light"
          },
          "output_type": "display_data"
        }
      ],
      "source": [
        "plot_accuracy()"
      ]
    },
    {
      "cell_type": "markdown",
      "metadata": {
        "id": "XGvZhla5f9dp"
      },
      "source": [
        "## Model 6: performance\n",
        "\n",
        "---\n",
        "\n",
        "|Model # |Number of layers | Number of hidden units | Regularisation Used | Results |\n",
        "|:-----------:|:-----------:|:---------------------:|:------------:|:------------:|\n",
        "1 | 2 | 5,1 | N/A | Best loss 0.2742, best accuracy at 0.8910.\n",
        "2 | 2 | 30,1 | N/A | Best loss 0.2737, best accuracy 0.8906. \n",
        "3 | 2 | 15,1 | N/A | Best loss 0.2775, best accuracy 0.8927. \n",
        "4 | 3 | 15,15,1 | N/A | Best loss 0.2790, best accuracy 0.8905. \n",
        "5 | 2 | 8,1 | N/A | Best loss 0.2757, best accuracy 0.8915. \n",
        "6 | 3 | 15,1 | dropout 0.5 | Best loss 0.2710, best accuracy 0.8908.\n",
        "\n",
        "The best loss that was achieved was 0.2710 and the best accuracy at 0.8908 at epoch 8 which is a reduced overfitting for our results. This will be implemented in my final model even if the result is similar because it reduces overfitting it will be useful in my final model.\n"
      ]
    },
    {
      "cell_type": "markdown",
      "metadata": {
        "id": "gKWcb1VzkLGo"
      },
      "source": [
        "## Model 7: Add L1 regularisation\n",
        "\n",
        "---\n",
        "\n"
      ]
    },
    {
      "cell_type": "code",
      "execution_count": null,
      "metadata": {
        "colab": {
          "base_uri": "https://localhost:8080/"
        },
        "id": "aBWT-T9_kKHv",
        "outputId": "10d24516-b3cb-4def-feef-693243348877"
      },
      "outputs": [
        {
          "name": "stdout",
          "output_type": "stream",
          "text": [
            "Model: \"sequential_13\"\n",
            "_________________________________________________________________\n",
            " Layer (type)                Output Shape              Param #   \n",
            "=================================================================\n",
            " dense_27 (Dense)            (None, 15)                150015    \n",
            "                                                                 \n",
            " dense_28 (Dense)            (None, 1)                 16        \n",
            "                                                                 \n",
            "=================================================================\n",
            "Total params: 150,031\n",
            "Trainable params: 150,031\n",
            "Non-trainable params: 0\n",
            "_________________________________________________________________\n",
            "Epoch 1/20\n",
            "30/30 [==============================] - 3s 78ms/step - loss: 1.0041 - accuracy: 0.7591 - val_loss: 0.6773 - val_accuracy: 0.8190\n",
            "Epoch 2/20\n",
            "30/30 [==============================] - 1s 41ms/step - loss: 0.6286 - accuracy: 0.8410 - val_loss: 0.6178 - val_accuracy: 0.8433\n",
            "Epoch 3/20\n",
            "30/30 [==============================] - 1s 42ms/step - loss: 0.5946 - accuracy: 0.8483 - val_loss: 0.5959 - val_accuracy: 0.8501\n",
            "Epoch 4/20\n",
            "30/30 [==============================] - 1s 42ms/step - loss: 0.5764 - accuracy: 0.8505 - val_loss: 0.5854 - val_accuracy: 0.8489\n",
            "Epoch 5/20\n",
            "30/30 [==============================] - 1s 41ms/step - loss: 0.5595 - accuracy: 0.8575 - val_loss: 0.5770 - val_accuracy: 0.8470\n",
            "Epoch 6/20\n",
            "30/30 [==============================] - 1s 43ms/step - loss: 0.5536 - accuracy: 0.8563 - val_loss: 0.6116 - val_accuracy: 0.8160\n",
            "Epoch 7/20\n",
            "30/30 [==============================] - 2s 57ms/step - loss: 0.5472 - accuracy: 0.8559 - val_loss: 0.5602 - val_accuracy: 0.8535\n",
            "Epoch 8/20\n",
            "30/30 [==============================] - 2s 51ms/step - loss: 0.5421 - accuracy: 0.8563 - val_loss: 0.5636 - val_accuracy: 0.8506\n",
            "Epoch 9/20\n",
            "30/30 [==============================] - 1s 45ms/step - loss: 0.5378 - accuracy: 0.8566 - val_loss: 0.5722 - val_accuracy: 0.8421\n",
            "Epoch 10/20\n",
            "30/30 [==============================] - 1s 41ms/step - loss: 0.5331 - accuracy: 0.8585 - val_loss: 0.5484 - val_accuracy: 0.8513\n",
            "Epoch 11/20\n",
            "30/30 [==============================] - 1s 41ms/step - loss: 0.5327 - accuracy: 0.8560 - val_loss: 0.5549 - val_accuracy: 0.8459\n",
            "Epoch 12/20\n",
            "30/30 [==============================] - 1s 42ms/step - loss: 0.5253 - accuracy: 0.8597 - val_loss: 0.5632 - val_accuracy: 0.8430\n",
            "Epoch 13/20\n",
            "30/30 [==============================] - 1s 43ms/step - loss: 0.5249 - accuracy: 0.8606 - val_loss: 0.5400 - val_accuracy: 0.8572\n",
            "Epoch 14/20\n",
            "30/30 [==============================] - 1s 42ms/step - loss: 0.5226 - accuracy: 0.8602 - val_loss: 0.5367 - val_accuracy: 0.8576\n",
            "Epoch 15/20\n",
            "30/30 [==============================] - 1s 42ms/step - loss: 0.5176 - accuracy: 0.8633 - val_loss: 0.5562 - val_accuracy: 0.8413\n",
            "Epoch 16/20\n",
            "30/30 [==============================] - 1s 41ms/step - loss: 0.5183 - accuracy: 0.8597 - val_loss: 0.5282 - val_accuracy: 0.8595\n",
            "Epoch 17/20\n",
            "30/30 [==============================] - 1s 41ms/step - loss: 0.5140 - accuracy: 0.8645 - val_loss: 0.5389 - val_accuracy: 0.8564\n",
            "Epoch 18/20\n",
            "30/30 [==============================] - 1s 43ms/step - loss: 0.5140 - accuracy: 0.8635 - val_loss: 0.5276 - val_accuracy: 0.8567\n",
            "Epoch 19/20\n",
            "30/30 [==============================] - 1s 41ms/step - loss: 0.5086 - accuracy: 0.8645 - val_loss: 0.5474 - val_accuracy: 0.8585\n",
            "Epoch 20/20\n",
            "30/30 [==============================] - 1s 41ms/step - loss: 0.5111 - accuracy: 0.8636 - val_loss: 0.5243 - val_accuracy: 0.8609\n"
          ]
        }
      ],
      "source": [
        "model = models.Sequential()\n",
        "model.add(layers.Dense(15, kernel_regularizer=regularizers.l1(0.001),activation = 'relu', input_shape = (10000,)))\n",
        "model.add(layers.Dense(1, activation = 'sigmoid'))\n",
        "\n",
        "model.compile(optimizer='rmsprop',\n",
        "             loss='binary_crossentropy',\n",
        "             metrics=['accuracy'])\n",
        "model.summary()\n",
        "history = model.fit(partial_x_train, \n",
        "                    partial_y_train,\n",
        "                    epochs = 20,\n",
        "                    batch_size = 512,\n",
        "                    validation_data = (x_val, y_val)) "
      ]
    },
    {
      "cell_type": "code",
      "execution_count": null,
      "metadata": {
        "colab": {
          "base_uri": "https://localhost:8080/",
          "height": 295
        },
        "id": "8iRBkkQ6k_n0",
        "outputId": "9c9aef9a-0ac2-4826-9078-26e90b3ddeda"
      },
      "outputs": [
        {
          "data": {
            "image/png": "[encoded data removed]",
            "text/plain": [
              "<Figure size 432x288 with 1 Axes>"
            ]
          },
          "metadata": {
            "needs_background": "light"
          },
          "output_type": "display_data"
        }
      ],
      "source": [
        "plot_loss()"
      ]
    },
    {
      "cell_type": "code",
      "execution_count": null,
      "metadata": {
        "colab": {
          "base_uri": "https://localhost:8080/",
          "height": 295
        },
        "id": "Hw7YJ19alAL8",
        "outputId": "e51162f7-5856-493b-d5c5-93fa51c93d82"
      },
      "outputs": [
        {
          "data": {
            "image/png": "[encoded data removed]",
            "text/plain": [
              "<Figure size 432x288 with 1 Axes>"
            ]
          },
          "metadata": {
            "needs_background": "light"
          },
          "output_type": "display_data"
        }
      ],
      "source": [
        "plot_accuracy()"
      ]
    },
    {
      "cell_type": "markdown",
      "metadata": {
        "id": "acBvDFhmlMfT"
      },
      "source": [
        "## Model 7: performance\n",
        "\n",
        "---\n",
        "\n",
        "|Model # |Number of layers | Number of hidden units | Regularisation Used | Results |\n",
        "|:-----------:|:-----------:|:---------------------:|:------------:|:------------:|\n",
        "1 | 2 | 5,1 | N/A | Best loss 0.2742, best accuracy at 0.8910.\n",
        "2 | 2 | 30,1 | N/A | Best loss 0.2737, best accuracy 0.8906. \n",
        "3 | 2 | 15,1 | N/A | Best loss 0.2775, best accuracy 0.8927. \n",
        "4 | 3 | 15,15,1 | N/A | Best loss 0.2790, best accuracy 0.8905. \n",
        "5 | 2 | 8,1 | N/A | Best loss 0.2757, best accuracy 0.8915. \n",
        "6 | 3 | 15,1 | dropout 0.5 | Best loss 0.2710, best accuracy 0.8908.\n",
        "7 | 3 | 15,1 | L1 | Best loss 0.5243, best accuracy 0.8609.\n",
        "\n",
        "The best loss was 0.5243 almost double the original model 3 and the accuracy at 0.8609 which is less than the original model, with this conclusion I won't be using this in my final model.\n"
      ]
    },
    {
      "cell_type": "markdown",
      "metadata": {
        "id": "QcRVtCD_mMnh"
      },
      "source": [
        "## Model 8: Add L2 regularisation\n",
        "\n",
        "---\n",
        "\n"
      ]
    },
    {
      "cell_type": "code",
      "execution_count": null,
      "metadata": {
        "colab": {
          "base_uri": "https://localhost:8080/"
        },
        "id": "1ONbaQjimSpN",
        "outputId": "fc20468c-5ea6-4a3a-af29-921ca4891296"
      },
      "outputs": [
        {
          "name": "stdout",
          "output_type": "stream",
          "text": [
            "Model: \"sequential_16\"\n",
            "_________________________________________________________________\n",
            " Layer (type)                Output Shape              Param #   \n",
            "=================================================================\n",
            " dense_33 (Dense)            (None, 15)                150015    \n",
            "                                                                 \n",
            " dense_34 (Dense)            (None, 1)                 16        \n",
            "                                                                 \n",
            "=================================================================\n",
            "Total params: 150,031\n",
            "Trainable params: 150,031\n",
            "Non-trainable params: 0\n",
            "_________________________________________________________________\n",
            "Epoch 1/20\n",
            "30/30 [==============================] - 6s 133ms/step - loss: 0.5296 - accuracy: 0.7933 - val_loss: 0.4183 - val_accuracy: 0.8714\n",
            "Epoch 2/20\n",
            "30/30 [==============================] - 2s 70ms/step - loss: 0.3586 - accuracy: 0.9000 - val_loss: 0.3610 - val_accuracy: 0.8833\n",
            "Epoch 3/20\n",
            "30/30 [==============================] - 3s 85ms/step - loss: 0.3009 - accuracy: 0.9181 - val_loss: 0.3388 - val_accuracy: 0.8870\n",
            "Epoch 4/20\n",
            "30/30 [==============================] - 2s 77ms/step - loss: 0.2729 - accuracy: 0.9251 - val_loss: 0.3289 - val_accuracy: 0.8890\n",
            "Epoch 5/20\n",
            "30/30 [==============================] - 2s 61ms/step - loss: 0.2545 - accuracy: 0.9349 - val_loss: 0.3349 - val_accuracy: 0.8845\n",
            "Epoch 6/20\n",
            "30/30 [==============================] - 1s 41ms/step - loss: 0.2446 - accuracy: 0.9377 - val_loss: 0.3289 - val_accuracy: 0.8865\n",
            "Epoch 7/20\n",
            "30/30 [==============================] - 1s 41ms/step - loss: 0.2364 - accuracy: 0.9407 - val_loss: 0.3305 - val_accuracy: 0.8857\n",
            "Epoch 8/20\n",
            "30/30 [==============================] - 1s 40ms/step - loss: 0.2284 - accuracy: 0.9444 - val_loss: 0.3347 - val_accuracy: 0.8857\n",
            "Epoch 9/20\n",
            "30/30 [==============================] - 1s 41ms/step - loss: 0.2229 - accuracy: 0.9471 - val_loss: 0.3359 - val_accuracy: 0.8836\n",
            "Epoch 10/20\n",
            "30/30 [==============================] - 1s 41ms/step - loss: 0.2208 - accuracy: 0.9466 - val_loss: 0.3431 - val_accuracy: 0.8775\n",
            "Epoch 11/20\n",
            "30/30 [==============================] - 1s 41ms/step - loss: 0.2158 - accuracy: 0.9493 - val_loss: 0.3421 - val_accuracy: 0.8804\n",
            "Epoch 12/20\n",
            "30/30 [==============================] - 1s 40ms/step - loss: 0.2133 - accuracy: 0.9513 - val_loss: 0.3450 - val_accuracy: 0.8795\n",
            "Epoch 13/20\n",
            "30/30 [==============================] - 1s 40ms/step - loss: 0.2124 - accuracy: 0.9495 - val_loss: 0.3532 - val_accuracy: 0.8815\n",
            "Epoch 14/20\n",
            "30/30 [==============================] - 1s 41ms/step - loss: 0.2047 - accuracy: 0.9536 - val_loss: 0.3469 - val_accuracy: 0.8831\n",
            "Epoch 15/20\n",
            "30/30 [==============================] - 1s 41ms/step - loss: 0.2057 - accuracy: 0.9550 - val_loss: 0.3481 - val_accuracy: 0.8814\n",
            "Epoch 16/20\n",
            "30/30 [==============================] - 1s 41ms/step - loss: 0.2002 - accuracy: 0.9570 - val_loss: 0.3502 - val_accuracy: 0.8818\n",
            "Epoch 17/20\n",
            "30/30 [==============================] - 1s 41ms/step - loss: 0.2011 - accuracy: 0.9535 - val_loss: 0.3533 - val_accuracy: 0.8782\n",
            "Epoch 18/20\n",
            "30/30 [==============================] - 1s 41ms/step - loss: 0.1973 - accuracy: 0.9553 - val_loss: 0.3658 - val_accuracy: 0.8782\n",
            "Epoch 19/20\n",
            "30/30 [==============================] - 1s 41ms/step - loss: 0.1918 - accuracy: 0.9599 - val_loss: 0.3695 - val_accuracy: 0.8725\n",
            "Epoch 20/20\n",
            "30/30 [==============================] - 1s 43ms/step - loss: 0.1952 - accuracy: 0.9571 - val_loss: 0.3595 - val_accuracy: 0.8775\n"
          ]
        }
      ],
      "source": [
        "model = models.Sequential()\n",
        "\n",
        "model.add(layers.Dense(15, kernel_regularizer=regularizers.l2(0.001), activation = 'relu', input_shape = (10000,)))\n",
        "model.add(layers.Dense(1, activation = 'sigmoid'))\n",
        "\n",
        "model.summary()\n",
        "model.compile(optimizer='rmsprop',\n",
        "             loss='binary_crossentropy',\n",
        "             metrics=['accuracy'])\n",
        "\n",
        "history = model.fit(partial_x_train, \n",
        "                    partial_y_train,\n",
        "                    epochs = 20,\n",
        "                    batch_size = 512,\n",
        "                    validation_data = (x_val, y_val)) "
      ]
    },
    {
      "cell_type": "code",
      "execution_count": null,
      "metadata": {
        "colab": {
          "base_uri": "https://localhost:8080/",
          "height": 295
        },
        "id": "P4WDOOrCm9ky",
        "outputId": "bddc2735-2859-4cc1-dff3-16a1478f66f5"
      },
      "outputs": [
        {
          "data": {
            "image/png": "[encoded data removed]",
            "text/plain": [
              "<Figure size 432x288 with 1 Axes>"
            ]
          },
          "metadata": {
            "needs_background": "light"
          },
          "output_type": "display_data"
        }
      ],
      "source": [
        "plot_loss()"
      ]
    },
    {
      "cell_type": "code",
      "execution_count": null,
      "metadata": {
        "colab": {
          "base_uri": "https://localhost:8080/",
          "height": 295
        },
        "id": "7TdjmAUmnD6S",
        "outputId": "6ceaff7c-07a9-4ab0-f8b6-6b3744122590"
      },
      "outputs": [
        {
          "data": {
            "image/png": "[encoded data removed]",
            "text/plain": [
              "<Figure size 432x288 with 1 Axes>"
            ]
          },
          "metadata": {
            "needs_background": "light"
          },
          "output_type": "display_data"
        }
      ],
      "source": [
        "plot_accuracy()"
      ]
    },
    {
      "cell_type": "markdown",
      "metadata": {
        "id": "saQgtc-nwpqR"
      },
      "source": [
        "## Model 8: Performance\n",
        "\n",
        "---\n",
        "\n",
        "|Model # |Number of layers | Number of hidden units | Regularisation Used | Results |\n",
        "|:-----------:|:-----------:|:---------------------:|:------------:|:------------:|\n",
        "1 | 2 | 5,1 | N/A | Best loss 0.2742, best accuracy at 0.8910.\n",
        "2 | 2 | 30,1 | N/A | Best loss 0.2737, best accuracy 0.8906. \n",
        "3 | 2 | 15,1 | N/A | Best loss 0.2775, best accuracy 0.8927. \n",
        "4 | 3 | 15,15,1 | N/A | Best loss 0.2790, best accuracy 0.8905. \n",
        "5 | 2 | 8,1 | N/A | Best loss 0.2757, best accuracy 0.8915. \n",
        "6 | 3 | 15,1 | dropout 0.5 | Best loss 0.2710, best accuracy 0.8908.\n",
        "7 | 3 | 15,1 | L1 | Best loss 0.5243, best accuracy 0.8609.\n",
        "8 | 2 | 15,1 | L2 | Best loss 0.3305, best accuracy 0.8890.\n",
        "\n",
        "The findings show the best loss for this was 0.3305 and the best accuracy at 0.8890, these results are lower than other results that can be more accurate, however this shows more consistent results and the loss stays relatively low and does not go too high compared to others that increase in loss the more epoch that runs. This will be implemented into my final module\n",
        "\n",
        "From these finding I have decided to implement the following additions, I will be changing the hyperparameters in the hidden layer from 15 to 8, I will be adding a dropout of 0.5 and I will be adding an L2 regularisation which are the two modification I will be applying. \n",
        "\n"
      ]
    },
    {
      "cell_type": "markdown",
      "metadata": {
        "id": "paoZEv441QeA"
      },
      "source": [
        "## Model 9: 8 hidden units, L2, dropout 0.5\n",
        "\n",
        "---\n",
        "\n"
      ]
    },
    {
      "cell_type": "code",
      "execution_count": null,
      "metadata": {
        "colab": {
          "base_uri": "https://localhost:8080/"
        },
        "id": "eo30r7UF2ClP",
        "outputId": "513c023e-269d-4781-a5fe-caa3bb601ec6"
      },
      "outputs": [
        {
          "name": "stdout",
          "output_type": "stream",
          "text": [
            "Model: \"sequential_1\"\n",
            "_________________________________________________________________\n",
            " Layer (type)                Output Shape              Param #   \n",
            "=================================================================\n",
            " dense_2 (Dense)             (None, 8)                 80008     \n",
            "                                                                 \n",
            " dropout (Dropout)           (None, 8)                 0         \n",
            "                                                                 \n",
            " dense_3 (Dense)             (None, 1)                 9         \n",
            "                                                                 \n",
            "=================================================================\n",
            "Total params: 80,017\n",
            "Trainable params: 80,017\n",
            "Non-trainable params: 0\n",
            "_________________________________________________________________\n",
            "Epoch 1/20\n",
            "30/30 [==============================] - 4s 96ms/step - loss: 0.6126 - accuracy: 0.6572 - val_loss: 0.5215 - val_accuracy: 0.8497\n",
            "Epoch 2/20\n",
            "30/30 [==============================] - 2s 54ms/step - loss: 0.5028 - accuracy: 0.7773 - val_loss: 0.4554 - val_accuracy: 0.8609\n",
            "Epoch 3/20\n",
            "30/30 [==============================] - 1s 48ms/step - loss: 0.4617 - accuracy: 0.8259 - val_loss: 0.4162 - val_accuracy: 0.8780\n",
            "Epoch 4/20\n",
            "30/30 [==============================] - 1s 38ms/step - loss: 0.4311 - accuracy: 0.8523 - val_loss: 0.3925 - val_accuracy: 0.8805\n",
            "Epoch 5/20\n",
            "30/30 [==============================] - 1s 31ms/step - loss: 0.4131 - accuracy: 0.8697 - val_loss: 0.3845 - val_accuracy: 0.8747\n",
            "Epoch 6/20\n",
            "30/30 [==============================] - 1s 31ms/step - loss: 0.3969 - accuracy: 0.8807 - val_loss: 0.3808 - val_accuracy: 0.8724\n",
            "Epoch 7/20\n",
            "30/30 [==============================] - 1s 31ms/step - loss: 0.3794 - accuracy: 0.8905 - val_loss: 0.3585 - val_accuracy: 0.8858\n",
            "Epoch 8/20\n",
            "30/30 [==============================] - 1s 31ms/step - loss: 0.3707 - accuracy: 0.8987 - val_loss: 0.3580 - val_accuracy: 0.8866\n",
            "Epoch 9/20\n",
            "30/30 [==============================] - 1s 31ms/step - loss: 0.3617 - accuracy: 0.9066 - val_loss: 0.3562 - val_accuracy: 0.8842\n",
            "Epoch 10/20\n",
            "30/30 [==============================] - 1s 32ms/step - loss: 0.3535 - accuracy: 0.9107 - val_loss: 0.3523 - val_accuracy: 0.8854\n",
            "Epoch 11/20\n",
            "30/30 [==============================] - 1s 30ms/step - loss: 0.3459 - accuracy: 0.9141 - val_loss: 0.3486 - val_accuracy: 0.8851\n",
            "Epoch 12/20\n",
            "30/30 [==============================] - 1s 31ms/step - loss: 0.3375 - accuracy: 0.9178 - val_loss: 0.3470 - val_accuracy: 0.8856\n",
            "Epoch 13/20\n",
            "30/30 [==============================] - 1s 35ms/step - loss: 0.3320 - accuracy: 0.9193 - val_loss: 0.3434 - val_accuracy: 0.8844\n",
            "Epoch 14/20\n",
            "30/30 [==============================] - 1s 31ms/step - loss: 0.3281 - accuracy: 0.9228 - val_loss: 0.3437 - val_accuracy: 0.8837\n",
            "Epoch 15/20\n",
            "30/30 [==============================] - 1s 31ms/step - loss: 0.3214 - accuracy: 0.9247 - val_loss: 0.3427 - val_accuracy: 0.8833\n",
            "Epoch 16/20\n",
            "30/30 [==============================] - 1s 31ms/step - loss: 0.3134 - accuracy: 0.9280 - val_loss: 0.3386 - val_accuracy: 0.8826\n",
            "Epoch 17/20\n",
            "30/30 [==============================] - 1s 35ms/step - loss: 0.3126 - accuracy: 0.9303 - val_loss: 0.3427 - val_accuracy: 0.8830\n",
            "Epoch 18/20\n",
            "30/30 [==============================] - 1s 31ms/step - loss: 0.3124 - accuracy: 0.9305 - val_loss: 0.3398 - val_accuracy: 0.8818\n",
            "Epoch 19/20\n",
            "30/30 [==============================] - 1s 31ms/step - loss: 0.3045 - accuracy: 0.9333 - val_loss: 0.3452 - val_accuracy: 0.8817\n",
            "Epoch 20/20\n",
            "30/30 [==============================] - 1s 31ms/step - loss: 0.2982 - accuracy: 0.9335 - val_loss: 0.3442 - val_accuracy: 0.8815\n"
          ]
        }
      ],
      "source": [
        "model = models.Sequential()\n",
        "\n",
        "model.add(layers.Dense(8, kernel_regularizer=regularizers.l2(0.001), activation = 'relu', input_shape = (10000,)))\n",
        "model.add(layers.Dropout(0.5))\n",
        "model.add(layers.Dense(1, activation = 'sigmoid'))\n",
        "\n",
        "model.summary()\n",
        "model.compile(optimizer='rmsprop',\n",
        "             loss='binary_crossentropy',\n",
        "             metrics=['accuracy'])\n",
        "\n",
        "history = model.fit(partial_x_train, \n",
        "                    partial_y_train,\n",
        "                    epochs = 20,\n",
        "                    batch_size = 512,\n",
        "                    validation_data = (x_val, y_val)) "
      ]
    },
    {
      "cell_type": "code",
      "execution_count": null,
      "metadata": {
        "colab": {
          "base_uri": "https://localhost:8080/",
          "height": 295
        },
        "id": "LNZ9DfdC2hin",
        "outputId": "a81da958-9f6a-4e77-c388-44b33b8480c9"
      },
      "outputs": [
        {
          "data": {
            "image/png": "[encoded data removed]",
            "text/plain": [
              "<Figure size 432x288 with 1 Axes>"
            ]
          },
          "metadata": {
            "needs_background": "light"
          },
          "output_type": "display_data"
        }
      ],
      "source": [
        "plot_loss()"
      ]
    },
    {
      "cell_type": "code",
      "execution_count": null,
      "metadata": {
        "colab": {
          "base_uri": "https://localhost:8080/",
          "height": 295
        },
        "id": "Mwga9YZo2h-q",
        "outputId": "d3dcaf06-f4eb-4c13-9d4b-fa79438ca2cd"
      },
      "outputs": [
        {
          "data": {
            "image/png": "[encoded data removed]",
            "text/plain": [
              "<Figure size 432x288 with 1 Axes>"
            ]
          },
          "metadata": {
            "needs_background": "light"
          },
          "output_type": "display_data"
        }
      ],
      "source": [
        "plot_accuracy()"
      ]
    },
    {
      "cell_type": "markdown",
      "metadata": {
        "id": "xmAtKW9k2pjd"
      },
      "source": [
        "## Model 9: Performance\n",
        "\n",
        "---\n",
        "\n",
        "|Model # |Number of layers | Number of hidden units | Regularisation Used | Results |\n",
        "|:-----------:|:-----------:|:---------------------:|:------------:|:------------:|\n",
        "1 | 2 | 5,1 | N/A | Best loss 0.2742, best accuracy at 0.8910.\n",
        "2 | 2 | 30,1 | N/A | Best loss 0.2737, best accuracy 0.8906. \n",
        "3 | 2 | 15,1 | N/A | Best loss 0.2775, best accuracy 0.8927. \n",
        "4 | 3 | 15,15,1 | N/A | Best loss 0.2790, best accuracy 0.8905. \n",
        "5 | 2 | 8,1 | N/A | Best loss 0.2757, best accuracy 0.8915. \n",
        "6 | 3 | 15,1 | dropout 0.5 | Best loss 0.2710, best accuracy 0.8908.\n",
        "7 | 3 | 15,1 | L1 | Best loss 0.5243, best accuracy 0.8609.\n",
        "8 | 2 | 15,1 | L2 | Best loss 0.3305, best accuracy 0.8890.\n",
        "9 | 3 | 8,1 | L2, dropout 0.5 | Best loss 0.3367, best accuracy 0.8866.\n",
        "\n",
        "Model 9 has the best loss of 0.3367 and the best accuracy of 0.8866, this model also has the most consistent accuracy I came across and the validation loss consistently going down as well.\n",
        "\n",
        "I will reduce the epoch size to 10 on the because consistently throughout my testing overfitting would start around 10 epochs, so for this reason I am going to apply this to the test dataset so that it is optimum.\n"
      ]
    },
    {
      "cell_type": "markdown",
      "metadata": {
        "id": "a_evvaL27dmC"
      },
      "source": [
        "## Model 9: Final model: 8 hidden units, L2, dropout 0.5\n",
        "\n",
        "---"
      ]
    },
    {
      "cell_type": "code",
      "execution_count": null,
      "metadata": {
        "colab": {
          "base_uri": "https://localhost:8080/"
        },
        "id": "6v5I0VuA5gVb",
        "outputId": "3f68d2dd-2391-48fa-bd05-3a7c496067b4"
      },
      "outputs": [
        {
          "name": "stdout",
          "output_type": "stream",
          "text": [
            "Model: \"sequential_5\"\n",
            "_________________________________________________________________\n",
            " Layer (type)                Output Shape              Param #   \n",
            "=================================================================\n",
            " dense_10 (Dense)            (None, 8)                 80008     \n",
            "                                                                 \n",
            " dropout_4 (Dropout)         (None, 8)                 0         \n",
            "                                                                 \n",
            " dense_11 (Dense)            (None, 1)                 9         \n",
            "                                                                 \n",
            "=================================================================\n",
            "Total params: 80,017\n",
            "Trainable params: 80,017\n",
            "Non-trainable params: 0\n",
            "_________________________________________________________________\n",
            "Epoch 1/10\n",
            "49/49 [==============================] - 2s 25ms/step - loss: 0.5396 - accuracy: 0.7462\n",
            "Epoch 2/10\n",
            "49/49 [==============================] - 1s 25ms/step - loss: 0.4074 - accuracy: 0.8458\n",
            "Epoch 3/10\n",
            "49/49 [==============================] - 1s 25ms/step - loss: 0.3650 - accuracy: 0.8666\n",
            "Epoch 4/10\n",
            "49/49 [==============================] - 1s 24ms/step - loss: 0.3398 - accuracy: 0.8817\n",
            "Epoch 5/10\n",
            "49/49 [==============================] - 1s 25ms/step - loss: 0.3280 - accuracy: 0.8874\n",
            "Epoch 6/10\n",
            "49/49 [==============================] - 1s 25ms/step - loss: 0.3126 - accuracy: 0.8966\n",
            "Epoch 7/10\n",
            "49/49 [==============================] - 1s 26ms/step - loss: 0.3073 - accuracy: 0.9010\n",
            "Epoch 8/10\n",
            "49/49 [==============================] - 1s 25ms/step - loss: 0.3011 - accuracy: 0.9043\n",
            "Epoch 9/10\n",
            "49/49 [==============================] - 1s 25ms/step - loss: 0.2934 - accuracy: 0.9082\n",
            "Epoch 10/10\n",
            "49/49 [==============================] - 1s 25ms/step - loss: 0.2902 - accuracy: 0.9090\n",
            "782/782 [==============================] - 2s 2ms/step - loss: 0.3206 - accuracy: 0.8860\n"
          ]
        },
        {
          "data": {
            "text/plain": [
              "[0.320555180311203, 0.8860399723052979]"
            ]
          },
          "execution_count": 8,
          "metadata": {},
          "output_type": "execute_result"
        }
      ],
      "source": [
        "model = models.Sequential()\n",
        "model.add(layers.Dense(8, kernel_regularizer=regularizers.l2(0.001), activation = 'relu', input_shape = (10000,)))\n",
        "model.add(layers.Dropout(0.5))\n",
        "model.add(layers.Dense(1, activation = 'sigmoid'))\n",
        "model.summary()\n",
        "\n",
        "model.compile(optimizer = 'rmsprop',\n",
        "             loss = 'binary_crossentropy',\n",
        "             metrics = ['accuracy'])\n",
        "model.fit(x_train, y_train, epochs = 10, batch_size = 512)\n",
        "\n",
        "results = model.evaluate(x_test, y_test)\n",
        "\n",
        "results"
      ]
    },
    {
      "cell_type": "markdown",
      "metadata": {
        "id": "jIEVKwRU8bX2"
      },
      "source": [
        "This result above shows that the network achieved a 0.3206 loss and 0.8860 accuracy on the whole test dataset. This is consistent throughout the experiments. This is not 100% accuracy so you will find the wrong label assigned to a review."
      ]
    },
    {
      "cell_type": "markdown",
      "metadata": {
        "id": "yJ5ClXbC-JX3"
      },
      "source": [
        "## Conclusion\n",
        "\n",
        "---\n",
        "\n",
        "To conclude, I was able to create a model that predicts if the film review is positive or negative at an 88% accuracy rate with minimal loss. Using a deep learning workflow allowed for an effective and stable model as shown. This was shown when using a validation set to check if the way of working would not only be good and work well for training data but also real test data. This was achieved by using many techniques like adjusting the hyperparameters and using regularisation and how that affects your data.\n",
        "\n",
        "With all this the conclusion is that the outputs can be predicted from the inputs and the data was more than enough to work with and produce results. "
      ]
    },
    {
      "cell_type": "markdown",
      "metadata": {
        "id": "TWdzASGB-NIa"
      },
      "source": [
        "## References\n",
        "\n",
        "---\n",
        "Jérémie, W. (2022), *Artificial Intellience Module Leader: Lecture Notes*, London: Goldsmiths,University of London.\n",
        "Chollet, F. (2021), *Deep Learning with Python*, Shelter Island: Manning.\n",
        "IMDB dataset "
      ]
    }
  ],
  "metadata": {
    "colab": {
      "provenance": []
    },
    "kernelspec": {
      "display_name": "Python 3",
      "name": "python3"
    },
    "language_info": {
      "name": "python"
    }
  },
  "nbformat": 4,
  "nbformat_minor": 0
}
